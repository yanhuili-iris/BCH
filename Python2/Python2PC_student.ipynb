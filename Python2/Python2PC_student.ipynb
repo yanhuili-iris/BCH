{
 "cells": [
  {
   "cell_type": "markdown",
   "metadata": {},
   "source": [
    "<h1>Python 2 - Object Oriented Programming and Pandas</h1>\n",
    "\n",
    "<!-- :    : -->\n",
    "\n",
    "<p>4 Pillars of OOP</p>\n",
    "<ul>\n",
    "    \n",
    "<li>Encapsulation: Group related variables and functions together to reduce complexity and increase reusability</li>\n",
    "<li>Data Abstraction: Creating methods to interface with attributes of your class. Show only essentials to reduce complexity</li>\n",
    "<li>Inheritance</li>\n",
    "<li>Polymorphism</li>\n",
    "\n",
    "</ul>"
   ]
  },
  {
   "cell_type": "markdown",
   "metadata": {},
   "source": [
    "<h1>Inheritance</h1>\n",
    "<ul>\n",
    "    <li>New classes do not need to be declared from scratch. They may build on existing classes</li>\n",
    "    <li>When one class inherits from another, it automatically takes on all the attributes and methods of the first class</li>\n",
    "    <li>Goal: Eliminate redundant code by inheriting attributes and methods from a parent class</li>\n",
    "</ul>\n"
   ]
  },
  {
   "cell_type": "code",
   "execution_count": 1,
   "metadata": {},
   "outputs": [],
   "source": []
  },
  {
   "cell_type": "code",
   "execution_count": 111,
   "metadata": {},
   "outputs": [],
   "source": []
  },
  {
   "cell_type": "code",
   "execution_count": null,
   "metadata": {},
   "outputs": [],
   "source": []
  },
  {
   "cell_type": "code",
   "execution_count": null,
   "metadata": {},
   "outputs": [],
   "source": []
  },
  {
   "cell_type": "markdown",
   "metadata": {},
   "source": [
    "<h1>Polymorphism</h1>\n",
    "\n",
    "<ul>\n",
    "    <li>Because child classes inherit all attributes and methods from their parent class, we may wish to refactor and customize classes to specific use cases.</li>\n",
    "    <li>Overiding involves the redefining of methods to better suit child classes </li>\n",
    "</ul>"
   ]
  },
  {
   "cell_type": "code",
   "execution_count": null,
   "metadata": {},
   "outputs": [],
   "source": []
  },
  {
   "cell_type": "code",
   "execution_count": null,
   "metadata": {},
   "outputs": [],
   "source": []
  },
  {
   "cell_type": "markdown",
   "metadata": {},
   "source": [
    "<h1>Pandas</h1>"
   ]
  },
  {
   "cell_type": "code",
   "execution_count": null,
   "metadata": {},
   "outputs": [],
   "source": []
  },
  {
   "cell_type": "markdown",
   "metadata": {},
   "source": [
    "<h1>Reading CVS Files</h1>\n",
    "\n",
    "<ul>\n",
    "    <li>Function to use in Pandas: read_csv()</li>\n",
    "    <li>Value passed to read_csv() must be string and the <b>exact</b> name of the file</li>\n",
    "    <li>CSV Files must be in the same directory as the python file/notebook</li>\n",
    "</ul>"
   ]
  },
  {
   "cell_type": "code",
   "execution_count": null,
   "metadata": {},
   "outputs": [],
   "source": []
  },
  {
   "cell_type": "markdown",
   "metadata": {},
   "source": [
    "<h1>Basic DataFrame Functions</h1>\n",
    "\n",
    "<ul>\n",
    "    <li>head() will display the first 5 values of the DataFrame</li>\n",
    "    <li>tail() will display the last 5 values of the DataFrame </li>\n",
    "    <li>shape will display the dimensions of the DataFrame</li>\n",
    "    <li>columns() will return the columns of the DataFrame as a list</li>\n",
    "    <li>dtypes will display the types of each column of the DataFrame</li>\n",
    "    <li>drop() will remove a column from the DataFrame</li>\n",
    "</ul>"
   ]
  },
  {
   "cell_type": "code",
   "execution_count": null,
   "metadata": {
    "scrolled": true
   },
   "outputs": [],
   "source": []
  },
  {
   "cell_type": "code",
   "execution_count": null,
   "metadata": {},
   "outputs": [],
   "source": []
  },
  {
   "cell_type": "code",
   "execution_count": null,
   "metadata": {},
   "outputs": [],
   "source": []
  },
  {
   "cell_type": "code",
   "execution_count": null,
   "metadata": {},
   "outputs": [],
   "source": []
  },
  {
   "cell_type": "code",
   "execution_count": null,
   "metadata": {},
   "outputs": [],
   "source": []
  },
  {
   "cell_type": "code",
   "execution_count": null,
   "metadata": {},
   "outputs": [],
   "source": []
  },
  {
   "cell_type": "markdown",
   "metadata": {},
   "source": [
    "<h1>Indexing and Series Functions</h1>\n",
    "\n",
    "<ul>\n",
    "    <li>Columns of a DataFrame can be accessed through the following format: df_name[\"name_of_column\"] </li>\n",
    "    <li>Columns will be returned as a Series, which have different methods than DataFrames </li>\n",
    "    <li>A couple useful Series functions: max(), median(), min(), value_counts(), sort_values()</li>\n",
    "</ul>"
   ]
  },
  {
   "cell_type": "code",
   "execution_count": null,
   "metadata": {},
   "outputs": [],
   "source": []
  },
  {
   "cell_type": "code",
   "execution_count": null,
   "metadata": {},
   "outputs": [],
   "source": [
    "\n"
   ]
  },
  {
   "cell_type": "code",
   "execution_count": null,
   "metadata": {},
   "outputs": [],
   "source": []
  },
  {
   "cell_type": "code",
   "execution_count": null,
   "metadata": {},
   "outputs": [],
   "source": []
  },
  {
   "cell_type": "code",
   "execution_count": null,
   "metadata": {},
   "outputs": [],
   "source": [
    "\n"
   ]
  },
  {
   "cell_type": "code",
   "execution_count": null,
   "metadata": {},
   "outputs": [],
   "source": []
  },
  {
   "cell_type": "code",
   "execution_count": null,
   "metadata": {},
   "outputs": [],
   "source": []
  },
  {
   "cell_type": "code",
   "execution_count": null,
   "metadata": {},
   "outputs": [],
   "source": []
  },
  {
   "cell_type": "markdown",
   "metadata": {},
   "source": [
    "<h1>Indexing</h1>\n",
    "\n",
    "<ul>\n",
    "    <li>Because Pandas will select entries based on column values by default, selecting data based on row values requires the use of the iloc method. \n",
    "    </li>\n",
    "    <li>\n",
    "      Allowed inputs are:\n",
    "        <ul>\n",
    "            <li>An integer, e.g. 5.</li>\n",
    "            <li>A list or array of integers, e.g. [4, 3, 0].</li>\n",
    "            <li>A slice object with ints, e.g. 1:7.</li>\n",
    "        </ul>\n",
    "    </li>\n",
    "</ul>"
   ]
  },
  {
   "cell_type": "code",
   "execution_count": null,
   "metadata": {},
   "outputs": [],
   "source": []
  },
  {
   "cell_type": "code",
   "execution_count": null,
   "metadata": {},
   "outputs": [],
   "source": []
  },
  {
   "cell_type": "code",
   "execution_count": null,
   "metadata": {},
   "outputs": [],
   "source": []
  },
  {
   "cell_type": "code",
   "execution_count": null,
   "metadata": {},
   "outputs": [],
   "source": []
  },
  {
   "cell_type": "code",
   "execution_count": null,
   "metadata": {},
   "outputs": [],
   "source": []
  },
  {
   "cell_type": "code",
   "execution_count": null,
   "metadata": {},
   "outputs": [],
   "source": []
  },
  {
   "cell_type": "markdown",
   "metadata": {},
   "source": [
    "<h1>Conditional Indexing</h1>\n",
    "\n",
    "<ul>\n",
    "    <li>Conditional Operators (>, ==, >=) can be used to return rows based on their values </li>\n",
    "    <li>Bitwise Operators (|, &) can be used to combine conditonal statements</li>\n",
    "</ul>"
   ]
  },
  {
   "cell_type": "code",
   "execution_count": null,
   "metadata": {},
   "outputs": [],
   "source": []
  },
  {
   "cell_type": "code",
   "execution_count": null,
   "metadata": {},
   "outputs": [],
   "source": []
  },
  {
   "cell_type": "code",
   "execution_count": null,
   "metadata": {},
   "outputs": [],
   "source": []
  },
  {
   "cell_type": "code",
   "execution_count": null,
   "metadata": {},
   "outputs": [],
   "source": []
  },
  {
   "cell_type": "code",
   "execution_count": 1,
   "metadata": {},
   "outputs": [],
   "source": [
    "# find the exports to CAN in 1995\n",
    "\n",
    "# find the exports from to CAN for years greater than 1999\n"
   ]
  },
  {
   "cell_type": "markdown",
   "metadata": {},
   "source": [
    "<h1>Formatting Data</h1>\n",
    "\n",
    "<ul>\n",
    "    <li>To access and format the string values of a DataFrame, we can access methods within the \"str\" module of the DataFrame </li>\n",
    "    <li>We may also format float values using options.display.float_format() in Pandas</li>\n",
    "</ul>"
   ]
  },
  {
   "cell_type": "code",
   "execution_count": null,
   "metadata": {},
   "outputs": [],
   "source": []
  },
  {
   "cell_type": "code",
   "execution_count": null,
   "metadata": {
    "scrolled": true
   },
   "outputs": [],
   "source": []
  },
  {
   "cell_type": "code",
   "execution_count": null,
   "metadata": {},
   "outputs": [],
   "source": []
  },
  {
   "cell_type": "code",
   "execution_count": null,
   "metadata": {},
   "outputs": [],
   "source": []
  },
  {
   "cell_type": "code",
   "execution_count": null,
   "metadata": {},
   "outputs": [],
   "source": []
  },
  {
   "cell_type": "code",
   "execution_count": null,
   "metadata": {},
   "outputs": [],
   "source": []
  }
 ],
 "metadata": {
  "kernelspec": {
   "display_name": "Python 3",
   "language": "python",
   "name": "python3"
  },
  "language_info": {
   "codemirror_mode": {
    "name": "ipython",
    "version": 3
   },
   "file_extension": ".py",
   "mimetype": "text/x-python",
   "name": "python",
   "nbconvert_exporter": "python",
   "pygments_lexer": "ipython3",
   "version": "3.7.3"
  }
 },
 "nbformat": 4,
 "nbformat_minor": 2
}
