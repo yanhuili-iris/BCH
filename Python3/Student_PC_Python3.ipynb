{
 "cells": [
  {
   "cell_type": "markdown",
   "metadata": {
    "colab_type": "text",
    "id": "r0TTHn6jK4HV"
   },
   "source": [
    "# Python 3\n",
    "For this tutorial we'll be using the Iris dataset from sklearn. \n",
    "\n",
    "In this notebook we will:\n",
    "1. Import required modules and dataset\n",
    "2. Define multiple Classification models\n",
    "3. Fit the data to our models\n",
    "4. Use our trained models to predict a class label \n",
    "5. Evaluate our models and chose the best performing model \n",
    "\n"
   ]
  },
  {
   "cell_type": "code",
   "execution_count": 13,
   "metadata": {},
   "outputs": [],
   "source": [
    "#Import Pandas to your workspace\n"
   ]
  },
  {
   "cell_type": "code",
   "execution_count": 15,
   "metadata": {},
   "outputs": [],
   "source": [
    "#Read the \"exports.csv\" file and store it into a variable"
   ]
  },
  {
   "cell_type": "code",
   "execution_count": 16,
   "metadata": {},
   "outputs": [],
   "source": [
    "#Display the first few rows of the DataFrame"
   ]
  },
  {
   "cell_type": "markdown",
   "metadata": {},
   "source": [
    "<h1>groupby()</h1>\n",
    "\n",
    "<ul>\n",
    "    <li>groupby combines 3 steps all in one function:\n",
    "        <ol>\n",
    "            <li>Split a DataFrame</li>\n",
    "            <li>Apply a function</li>\n",
    "            <li>Combine the results</li>\n",
    "        </ol>\n",
    "    </li>\n",
    "    <li>groupby must be given the name of the column to group by as a string</li>\n",
    "    <li>The column to apply the function onto must also be specified, as well as the function to apply</li>\n",
    "</ul>"
   ]
  },
  {
   "cell_type": "code",
   "execution_count": null,
   "metadata": {},
   "outputs": [],
   "source": []
  },
  {
   "cell_type": "code",
   "execution_count": null,
   "metadata": {},
   "outputs": [],
   "source": []
  },
  {
   "cell_type": "code",
   "execution_count": 4,
   "metadata": {},
   "outputs": [],
   "source": [
    "#Read the \"country names - Sheet1.csv\" file and store it into a variable called countries"
   ]
  },
  {
   "cell_type": "code",
   "execution_count": null,
   "metadata": {},
   "outputs": [],
   "source": [
    "#Display the first few rows of the countries DataFrame"
   ]
  },
  {
   "cell_type": "code",
   "execution_count": 7,
   "metadata": {},
   "outputs": [],
   "source": [
    "#Convert the 3 letter representations in the id_3char column from lower to upper case "
   ]
  },
  {
   "cell_type": "code",
   "execution_count": 10,
   "metadata": {},
   "outputs": [],
   "source": [
    "#Change the column names to \"id\", \"code\", and \"Name\""
   ]
  },
  {
   "cell_type": "code",
   "execution_count": 11,
   "metadata": {},
   "outputs": [],
   "source": [
    "#Display the first few rows to verify changes"
   ]
  },
  {
   "cell_type": "markdown",
   "metadata": {},
   "source": [
    "<h1>merge()</h1>\n",
    "\n",
    "<ul>\n",
    "    <li>Merge two DataFrames along common columns</li>\n",
    "    <li>Must be provided the DataFrame to merge with, as well as the names of the common columns</li>\n",
    "    <li>Will merge and map rows where the values in both DataFrames are equal</li>\n",
    "</ul>"
   ]
  },
  {
   "cell_type": "code",
   "execution_count": null,
   "metadata": {},
   "outputs": [],
   "source": []
  },
  {
   "cell_type": "code",
   "execution_count": null,
   "metadata": {},
   "outputs": [],
   "source": []
  },
  {
   "cell_type": "code",
   "execution_count": 14,
   "metadata": {},
   "outputs": [],
   "source": [
    "#Drop the \"id\" and \"code\" columns from our merged_df"
   ]
  },
  {
   "cell_type": "code",
   "execution_count": 12,
   "metadata": {},
   "outputs": [],
   "source": [
    "#Display a few rows to verify changes"
   ]
  },
  {
   "cell_type": "code",
   "execution_count": 17,
   "metadata": {},
   "outputs": [],
   "source": [
    "#Export the final version of our DataFrame to a .csv file named \"final_data.csv\" "
   ]
  },
  {
   "cell_type": "code",
   "execution_count": 19,
   "metadata": {
    "colab": {},
    "colab_type": "code",
    "id": "OoEM006y_Gy6"
   },
   "outputs": [],
   "source": [
    "#1. Downloading, Installing and Starting Python SciPy\n",
    "\n",
    "# Check the versions of libraries\n",
    "# scipy\n",
    "import scipy\n",
    "\n",
    "# numpy\n",
    "import numpy\n",
    "\n",
    "# scikit-learn\n",
    "import sklearn\n",
    "\n",
    "#2. Load The Data\n",
    "\n",
    "#2.1 Import  Libraries\n",
    "\n",
    "import pandas as pd\n",
    "from pandas.plotting import scatter_matrix\n",
    "import matplotlib.pyplot as plt\n",
    "\n",
    "from sklearn import model_selection\n",
    "\n",
    "from sklearn.metrics import classification_report\n",
    "from sklearn.metrics import confusion_matrix\n",
    "from sklearn.metrics import accuracy_score\n",
    "\n",
    "from sklearn.linear_model import LogisticRegression\n",
    "from sklearn.tree import DecisionTreeClassifier\n",
    "from sklearn.neighbors import KNeighborsClassifier\n",
    "from sklearn.discriminant_analysis import LinearDiscriminantAnalysis\n",
    "from sklearn.naive_bayes import GaussianNB\n",
    "from sklearn.svm import SVC\n",
    "\n",
    "from sklearn import datasets\n",
    "\n",
    "from IPython.display import display\n",
    "\n"
   ]
  },
  {
   "cell_type": "code",
   "execution_count": 24,
   "metadata": {
    "colab": {
     "base_uri": "https://localhost:8080/",
     "height": 3641
    },
    "colab_type": "code",
    "id": "UVi6idfYBjXV",
    "outputId": "a4d24ffa-d884-4e03-bf77-cca0e3f32a73"
   },
   "outputs": [],
   "source": [
    "#2.2 Load Dataset\n"
   ]
  },
  {
   "cell_type": "code",
   "execution_count": 26,
   "metadata": {},
   "outputs": [],
   "source": [
    "#3. Summarize The Dataset\n"
   ]
  },
  {
   "cell_type": "code",
   "execution_count": null,
   "metadata": {},
   "outputs": [],
   "source": [
    "#3.1 Dimensions of Dataset\n"
   ]
  },
  {
   "cell_type": "code",
   "execution_count": null,
   "metadata": {},
   "outputs": [],
   "source": [
    "#3.2 Peek at the Data\n"
   ]
  },
  {
   "cell_type": "code",
   "execution_count": null,
   "metadata": {},
   "outputs": [],
   "source": [
    "#3.3 Statistical Summary\n"
   ]
  },
  {
   "cell_type": "code",
   "execution_count": 27,
   "metadata": {
    "colab": {
     "base_uri": "https://localhost:8080/",
     "height": 109
    },
    "colab_type": "code",
    "id": "qvMFwo2tWbIE",
    "outputId": "ce347b97-d9dc-4343-ecee-9abaeff7eb22"
   },
   "outputs": [],
   "source": [
    "#3.4 Class Distribution\n",
    "#Group target variable by the class column and apply the size function\n"
   ]
  },
  {
   "cell_type": "code",
   "execution_count": 28,
   "metadata": {
    "colab": {
     "base_uri": "https://localhost:8080/",
     "height": 350
    },
    "colab_type": "code",
    "id": "RenvR-er2h__",
    "outputId": "1610a1d7-3ce3-4032-9a6c-ad911d7b13ed"
   },
   "outputs": [],
   "source": [
    "#4. Data Visualization\n",
    "\n",
    "#4.1 Univariate Plots\n",
    "\n",
    "# box and whisker plots\n"
   ]
  },
  {
   "cell_type": "code",
   "execution_count": 29,
   "metadata": {
    "colab": {
     "base_uri": "https://localhost:8080/",
     "height": 362
    },
    "colab_type": "code",
    "id": "7GsziYa02mbZ",
    "outputId": "c5d20456-366c-4318-9686-8d8a661149e6"
   },
   "outputs": [],
   "source": [
    "# histograms\n"
   ]
  },
  {
   "cell_type": "code",
   "execution_count": 30,
   "metadata": {
    "colab": {
     "base_uri": "https://localhost:8080/",
     "height": 362
    },
    "colab_type": "code",
    "id": "hAFXyavz2xCO",
    "outputId": "52d7d81b-6ea8-4c7d-a622-a740f6282299"
   },
   "outputs": [],
   "source": [
    "#4.2 Multivariate Plots\n",
    "\n",
    "# scatter plot matrix\n",
    "\n"
   ]
  },
  {
   "cell_type": "code",
   "execution_count": 33,
   "metadata": {
    "colab": {
     "base_uri": "https://localhost:8080/",
     "height": 35
    },
    "colab_type": "code",
    "id": "P-8oUQsfW7G9",
    "outputId": "8f334107-2b27-4eab-c4c1-8f7237200fa4"
   },
   "outputs": [],
   "source": [
    "#5. Evaluate Some Algorithms\n",
    "\n",
    "#5.1 Create a Validation Dataset\n",
    "\n",
    "# Split-out validation dataset\n",
    "\n"
   ]
  },
  {
   "cell_type": "code",
   "execution_count": null,
   "metadata": {},
   "outputs": [],
   "source": [
    "models = []\n",
    "scores = []\n",
    "models.append(('LR', LogisticRegression()))\n",
    "models.append(('LDA', LinearDiscriminantAnalysis()))\n",
    "models.append(('KNN', KNeighborsClassifier()))\n",
    "models.append(('CART', DecisionTreeClassifier()))\n",
    "models.append(('NB', GaussianNB()))\n",
    "models.append(('SVM', SVC()))"
   ]
  },
  {
   "cell_type": "code",
   "execution_count": null,
   "metadata": {},
   "outputs": [],
   "source": [
    "\n"
   ]
  },
  {
   "cell_type": "code",
   "execution_count": null,
   "metadata": {
    "colab": {},
    "colab_type": "code",
    "id": "eWvsg04K6iYM"
   },
   "outputs": [],
   "source": []
  },
  {
   "cell_type": "code",
   "execution_count": null,
   "metadata": {
    "colab": {
     "base_uri": "https://localhost:8080/",
     "height": 128
    },
    "colab_type": "code",
    "id": "wuJ4btP9RYel",
    "outputId": "e351f9b8-6eb8-4b70-eb3d-167f44349d24"
   },
   "outputs": [],
   "source": []
  },
  {
   "cell_type": "code",
   "execution_count": null,
   "metadata": {
    "colab": {
     "base_uri": "https://localhost:8080/",
     "height": 437
    },
    "colab_type": "code",
    "id": "-JCw-sdWRXWX",
    "outputId": "fa7c918b-bc70-4961-8818-be6e10f6cd4a"
   },
   "outputs": [],
   "source": []
  },
  {
   "cell_type": "code",
   "execution_count": null,
   "metadata": {},
   "outputs": [],
   "source": []
  }
 ],
 "metadata": {
  "colab": {
   "collapsed_sections": [],
   "name": "Master_BCH_Classification.ipynb",
   "provenance": [],
   "version": "0.3.2"
  },
  "kernelspec": {
   "display_name": "Python 3",
   "language": "python",
   "name": "python3"
  },
  "language_info": {
   "codemirror_mode": {
    "name": "ipython",
    "version": 3
   },
   "file_extension": ".py",
   "mimetype": "text/x-python",
   "name": "python",
   "nbconvert_exporter": "python",
   "pygments_lexer": "ipython3",
   "version": "3.7.1"
  }
 },
 "nbformat": 4,
 "nbformat_minor": 1
}
