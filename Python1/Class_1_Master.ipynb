{
 "cells": [
  {
   "cell_type": "markdown",
   "metadata": {
    "colab_type": "text",
    "id": "8sNLUmXqhc69"
   },
   "source": [
    "<h1>Python 1 - Overview</h1>\n",
    "<p>\n",
    "  Bootcamp will cover Python fundamentals while making a music playlist program\n",
    "</p>\n",
    "<ul>\n",
    "<li>Evaluating primitive types in python: type()</li>\n",
    "<li>Declaring variables and variable declaration conventions: =</li>\n",
    "<li>Math Operators and string concatenation: (+ , - , * , /,%)</li>\n",
    "<li>IF and WHILE statements with conditional operators: (==, >, >=, break)</li>\n",
    "<li>User input: input()</li>\n",
    "<li>Data collections - Lists: ([ ], append(), insert(), del, pop(), len(), sort())</li>\n",
    "<li>Data collections - Dictionaries: ({ },[ ], insert(), del, clear(), keys(), values())</li>\n",
    "<li>Declaring custom functions: def, return</li>\n",
    "<li>Classes and object oriented programming: class(), __init__(), methods</li>\n",
    "<li>Automating with FOR loops: for, in</li>\n",
    "<li>Use Case: Song Playlist Program</li>\n",
    "</ul>\n",
    "<p>Our program will:\n",
    "<ol>\n",
    "  <li>Display a menu</li>\n",
    "  <li>Add new songs from user input </li>\n",
    "  <li>Display the playlist</li>\n",
    "  <li>Remove songs from the playlist</li>\n",
    "</ol>\n",
    "  </p>"
   ]
  },
  {
   "cell_type": "markdown",
   "metadata": {
    "colab_type": "text",
    "id": "jhRJHIQuaK1z"
   },
   "source": [
    "<h1>Data Types</h1>\n",
    "<ul>\n",
    "  <li>\n",
    "   Four primitive types in Python\n",
    "    <ol>\n",
    "      <li>\n",
    "        Integers\n",
    "      </li>\n",
    "      <li>\n",
    "        Booleans\n",
    "      </li>\n",
    "      <li>\n",
    "        Floats\n",
    "      </li>\n",
    "      <li>\n",
    "        Strings\n",
    "      </li>\n",
    "    </ol>\n",
    " <li>\n",
    "   Types may be changed using int(), str(), float(), and bool() methods    \n",
    " </li>\n",
    "</ul>"
   ]
  },
  {
   "cell_type": "code",
   "execution_count": 8,
   "metadata": {
    "colab": {
     "base_uri": "https://localhost:8080/",
     "height": 91
    },
    "colab_type": "code",
    "id": "6feLqUTLaK13",
    "outputId": "4c33814a-6c09-4cea-922e-107c4373b180"
   },
   "outputs": [
    {
     "name": "stdout",
     "output_type": "stream",
     "text": [
      "<class 'int'>\n",
      "3\n",
      "3.0\n",
      "True\n"
     ]
    }
   ],
   "source": [
    "#The code to output the type of data for (1) has already been filled in for you as an example.\n",
    "\n",
    "print(type(3))\n",
    "print(str(3)) # \"3\"\n",
    "print(float(3))\n",
    "print(bool(3))\n",
    "\n"
   ]
  },
  {
   "cell_type": "code",
   "execution_count": 9,
   "metadata": {
    "colab": {
     "base_uri": "https://localhost:8080/",
     "height": 35
    },
    "colab_type": "code",
    "id": "Jp-u-3UuaK2I",
    "outputId": "8c4333e2-77af-4633-e4b6-d6d86bf5c871"
   },
   "outputs": [
    {
     "data": {
      "text/plain": [
       "str"
      ]
     },
     "execution_count": 9,
     "metadata": {
      "tags": []
     },
     "output_type": "execute_result"
    }
   ],
   "source": [
    "# Edit the following lines of code so that they would output the types of data for `True`, `3.14`, and `\"A string\"`.\n",
    "\n",
    "type(\"Drake\")\n",
    "\n"
   ]
  },
  {
   "cell_type": "code",
   "execution_count": 10,
   "metadata": {
    "colab": {
     "base_uri": "https://localhost:8080/",
     "height": 35
    },
    "colab_type": "code",
    "id": "QGvw_Ps9aK2T",
    "outputId": "e853a29a-0176-4f60-d496-4917504ebdf0"
   },
   "outputs": [
    {
     "data": {
      "text/plain": [
       "bool"
      ]
     },
     "execution_count": 10,
     "metadata": {
      "tags": []
     },
     "output_type": "execute_result"
    }
   ],
   "source": [
    "type(True)\n",
    "\n"
   ]
  },
  {
   "cell_type": "code",
   "execution_count": 11,
   "metadata": {
    "colab": {
     "base_uri": "https://localhost:8080/",
     "height": 35
    },
    "colab_type": "code",
    "id": "jyf7Dd--aK2d",
    "outputId": "a62bbb58-99c9-4042-e718-c72288107072"
   },
   "outputs": [
    {
     "data": {
      "text/plain": [
       "float"
      ]
     },
     "execution_count": 11,
     "metadata": {
      "tags": []
     },
     "output_type": "execute_result"
    }
   ],
   "source": [
    "type(3.14)\n",
    "\n"
   ]
  },
  {
   "cell_type": "markdown",
   "metadata": {
    "colab_type": "text",
    "id": "Ct1Ouj3TaK2r"
   },
   "source": [
    "<h1>Variables</h1>\n",
    "<ul>\n",
    "  <li>\n",
    "    May consist of letters, numbers, and underscores, but not spaces.\n",
    "    <ul>\n",
    "      <li>\n",
    "        <b>Cannot start with a number.</b>\n",
    "      </li>\n",
    "    </ul>\n",
    "  </li>\n",
    "  <li>\n",
    "    Avoid using Python keywords (for, if, and, or, etc.)\n",
    "</li>\n",
    "  <li>\n",
    "    Be careful when using 1s and lower case ls, as well as 0s and Os.\n",
    "</li>\n",
    "  <li>\n",
    "    Keep it short.\n",
    "</li>\n",
    "</ul>"
   ]
  },
  {
   "cell_type": "code",
   "execution_count": 0,
   "metadata": {
    "colab": {},
    "colab_type": "code",
    "id": "kUVrpEDraK2v"
   },
   "outputs": [],
   "source": [
    "# In the code below, the variable `num1` has been assigned an integer value of 10.\n",
    "\n",
    "num_songs = 10\n",
    "\n"
   ]
  },
  {
   "cell_type": "code",
   "execution_count": 13,
   "metadata": {
    "colab": {
     "base_uri": "https://localhost:8080/",
     "height": 35
    },
    "colab_type": "code",
    "id": "wDL9Snj3aK22",
    "outputId": "4f5fadfe-a338-4517-cd27-85b75bcb81a9"
   },
   "outputs": [
    {
     "name": "stdout",
     "output_type": "stream",
     "text": [
      "10\n"
     ]
    }
   ],
   "source": [
    "print(num_songs)\n",
    "\n"
   ]
  },
  {
   "cell_type": "code",
   "execution_count": 0,
   "metadata": {
    "colab": {},
    "colab_type": "code",
    "id": "a4aim_v7aK3D"
   },
   "outputs": [],
   "source": [
    "# Create variable `num2`by assigning it a value of 30.\n",
    "\n"
   ]
  },
  {
   "cell_type": "markdown",
   "metadata": {
    "colab_type": "text",
    "id": "quOCg51naK3Q"
   },
   "source": [
    "<h1>Math Operators</h1>\n",
    "<ul>\n",
    "  <li>\n",
    "    Addition, Subtration, Multiplication and Division may be done using basic math operators (+ , - , * , /,%).\n",
    "  </li>\n",
    "  <li>\n",
    "    Many built-in string methods (title, upper, lower, index, split).\n",
    "  </li>\n",
    "  <li>\n",
    "    Python will also try to interpret your code with other data types\n",
    "  </li>\n",
    "  <ul><li>(+) may be used with strings!</li></ul>\n",
    "</ul>"
   ]
  },
  {
   "cell_type": "code",
   "execution_count": 14,
   "metadata": {
    "colab": {
     "base_uri": "https://localhost:8080/",
     "height": 35
    },
    "colab_type": "code",
    "id": "efJPyToyaK3U",
    "outputId": "3d79ac55-db32-4416-d207-9ea50278d22a"
   },
   "outputs": [
    {
     "name": "stdout",
     "output_type": "stream",
     "text": [
      "5.91\n"
     ]
    }
   ],
   "source": [
    "# Create two variables, song1_dur and song2_dur that have float values representing the respective lengths of two songs\n",
    "# Create a new variable whose value is the sum of the duration of both songs \n",
    "song1_dur = 3.40\n",
    "song2_dur = 2.51\n",
    "tot_dur = song1_dur + song2_dur\n",
    "print(tot_dur)\n",
    "\n"
   ]
  },
  {
   "cell_type": "code",
   "execution_count": 0,
   "metadata": {
    "colab": {},
    "colab_type": "code",
    "id": "SEH_Z8RMaK3o"
   },
   "outputs": [],
   "source": [
    "#The string variables \"i\" and \"name\" have been defined for you.\n",
    "current = \"Currently Playing:\"\n",
    "artist_name = \"drake\"\n",
    "\n"
   ]
  },
  {
   "cell_type": "code",
   "execution_count": 46,
   "metadata": {
    "colab": {
     "base_uri": "https://localhost:8080/",
     "height": 128
    },
    "colab_type": "code",
    "id": "jCnJQgJfaK3u",
    "outputId": "e7043840-dfc4-4a90-e93c-a6affac428c0"
   },
   "outputs": [
    {
     "name": "stdout",
     "output_type": "stream",
     "text": [
      "Drake\n",
      "drake\n",
      "DRAKE\n",
      "Currently Playing: drake\n",
      "19\n",
      "['Currently', 'Playing:', 'drake']\n"
     ]
    }
   ],
   "source": [
    "#Print output by using the addition operator.\n",
    "current_artist = current + \" \" + artist_name\n",
    "\n",
    "print(artist_name.title())\n",
    "print(artist_name.lower())\n",
    "print(artist_name.upper())\n",
    "\n",
    "print(current_artist)\n",
    "print(current_artist.index(\"drake\"))\n",
    "print(current_artist.split(\" \"))\n",
    "\n"
   ]
  },
  {
   "cell_type": "code",
   "execution_count": 48,
   "metadata": {
    "colab": {
     "base_uri": "https://localhost:8080/",
     "height": 35
    },
    "colab_type": "code",
    "id": "E-TeGGXnGD7R",
    "outputId": "573d8e23-f7d4-42a7-abee-64b7e8449cac"
   },
   "outputs": [
    {
     "name": "stdout",
     "output_type": "stream",
     "text": [
      "Currently Playing: Drake\n"
     ]
    }
   ],
   "source": [
    "#A few ways to combine strings and variables\n",
    "print(f\"Currently Playing: {artist_name.title()}\")\n",
    "\n"
   ]
  },
  {
   "cell_type": "code",
   "execution_count": 0,
   "metadata": {
    "colab": {},
    "colab_type": "code",
    "id": "QauC6EX6aK31"
   },
   "outputs": [],
   "source": [
    "#Boolean can only have one of two values. Either they are \"True\" or \"False\". Variables \"yes\" and \"no\" have been assigned boolean variables of \"True\" and \"False\", respectively.\n",
    "yes = True\n",
    "no = False\n",
    "\n"
   ]
  },
  {
   "cell_type": "markdown",
   "metadata": {
    "colab_type": "text",
    "id": "rFpvvS7saK38"
   },
   "source": [
    "<h1>IF and WHILE Statements</h1>\n",
    "<ul>\n",
    "  <li>\n",
    "    Will only run indented code if condition is true\n",
    "  <li>\n",
    "    Make use of <b>conditional operators</b> to create tests\n",
    "  </li>\n",
    "  <ul><li>(==) will return true if both variables are equal</li>\n",
    "  <li>(>) will return true if left variable is larger</li>\n",
    "  <li>(>=) will return if left variable is larger or equal to right variable</li></ul>\n",
    "  <li>IF will only run indented code once, WHILE will run indented code until condition is no longer true</li>\n",
    "</ul>"
   ]
  },
  {
   "cell_type": "code",
   "execution_count": 50,
   "metadata": {
    "colab": {
     "base_uri": "https://localhost:8080/",
     "height": 35
    },
    "colab_type": "code",
    "id": "HMuXwq6NaK3_",
    "outputId": "0445dd07-47af-4e8b-b1bb-c39b52142091"
   },
   "outputs": [
    {
     "name": "stdout",
     "output_type": "stream",
     "text": [
      "True Statement!\n"
     ]
    }
   ],
   "source": [
    "#Boolean variables are generally used for conditional statements such as an if statement.The below lines of code uses boolean variables to determine whether or not the following functions will run.\n",
    "if yes:\n",
    "  print(\"True Statement!\")\n",
    "\n",
    "if no:\n",
    "  print(\"Will not print\")\n",
    "  \n",
    "  "
   ]
  },
  {
   "cell_type": "code",
   "execution_count": 0,
   "metadata": {
    "colab": {
     "base_uri": "https://localhost:8080/",
     "height": 35
    },
    "colab_type": "code",
    "id": "kuMFndnQaK4M",
    "outputId": "9b8e7f5b-1a60-4892-d2af-9cdf09026f70"
   },
   "outputs": [
    {
     "name": "stdout",
     "output_type": "stream",
     "text": [
      "Song Added\n"
     ]
    }
   ],
   "source": [
    "# The below code is asking if 3 is greater than 2 and if so print \"Three is greater than Two\"\n",
    "num_songs = 1\n",
    "\n",
    "if num_songs < 11:\n",
    "  print(\"Song Added\")\n",
    "  \n",
    "  "
   ]
  },
  {
   "cell_type": "code",
   "execution_count": 0,
   "metadata": {
    "colab": {},
    "colab_type": "code",
    "id": "80LZUxeP4VmU"
   },
   "outputs": [],
   "source": [
    "tot_dur = 0\n",
    "\n"
   ]
  },
  {
   "cell_type": "code",
   "execution_count": 65,
   "metadata": {
    "colab": {
     "base_uri": "https://localhost:8080/",
     "height": 35
    },
    "colab_type": "code",
    "id": "QX4EgJbvaK4p",
    "outputId": "ba11bf06-7bf2-40d5-89a0-a7f371987765"
   },
   "outputs": [
    {
     "name": "stdout",
     "output_type": "stream",
     "text": [
      "Allowed time exceeded!\n"
     ]
    }
   ],
   "source": [
    "# if else statments can also be used with math or anything really!\n",
    "song_dur = 5\n",
    "\n",
    "if tot_dur < 20.00:\n",
    "    tot_dur += song_dur\n",
    "    print(f\"Song Added. Your playlist is {tot_dur} minutes long.\")\n",
    "else:\n",
    "    print(\"Allowed time exceeded!\")\n",
    "    \n",
    "    "
   ]
  },
  {
   "cell_type": "code",
   "execution_count": 72,
   "metadata": {
    "colab": {
     "base_uri": "https://localhost:8080/",
     "height": 350
    },
    "colab_type": "code",
    "id": "QZQ-MCx_S3yM",
    "outputId": "97d4d94b-d1f6-4069-9311-7f81fc7b71d0"
   },
   "outputs": [
    {
     "name": "stdout",
     "output_type": "stream",
     "text": [
      "0\n",
      "1\n",
      "2\n",
      "3\n",
      "4\n",
      "5\n",
      "6\n",
      "7\n",
      "8\n",
      "9\n",
      "0\n",
      "1\n",
      "2\n",
      "3\n",
      "4\n",
      "5\n",
      "6\n",
      "7\n"
     ]
    }
   ],
   "source": [
    "limit = 10\n",
    "num_songs = 0\n",
    "\n",
    "while num_songs < limit:\n",
    "  print(num_songs)\n",
    "  num_songs += 1\n",
    "  \n",
    "num_songs = 0\n",
    "\n",
    "while True:\n",
    "  \n",
    "  if num_songs == 8:\n",
    "    break\n",
    "  \n",
    "  print(num_songs)\n",
    "  num_songs += 1\n",
    "  \n",
    "  "
   ]
  },
  {
   "cell_type": "markdown",
   "metadata": {
    "colab_type": "text",
    "id": "ltbJVmjiaK46"
   },
   "source": [
    "<h1>Lists</h1>\n",
    "<ul>\n",
    "  <li>\n",
    "   Collection of items in a particular order\n",
    "  <li>\n",
    "   Indexing (order) starts from <b>0</b>\n",
    "  </li>\n",
    "  <li>Accessing items in a list can be done with square brackets ([ ])</li>\n",
    "  <li>Items can be easily added to lists using append() and insert() methods</li>\n",
    "</ul>"
   ]
  },
  {
   "cell_type": "code",
   "execution_count": 80,
   "metadata": {
    "colab": {
     "base_uri": "https://localhost:8080/",
     "height": 146
    },
    "colab_type": "code",
    "id": "nZxyZjjraK47",
    "outputId": "509c01af-20f1-4565-8063-a5182652a00f"
   },
   "outputs": [
    {
     "name": "stdout",
     "output_type": "stream",
     "text": [
      "Drake\n",
      "Kanye\n",
      "['Drake', 'Ariana', 'Billy']\n",
      "['Drake']\n",
      "['Billy', 'Kanye']\n",
      "Kanye\n",
      "['Maroon5', 'Ariana', 'Billy', 'Kanye']\n"
     ]
    }
   ],
   "source": [
    "#Lists are a collection of data. The lists start at 0.\n",
    "\n",
    "artists = [\"Drake\", \"Ariana\", \"Billy\", \"Kanye\"]\n",
    "print(artists[0])\n",
    "print(artists[3])\n",
    "print(artists[0:3])\n",
    "print(artists[:1])\n",
    "print(artists[2:])\n",
    "print(artists[-1])\n",
    "\n",
    "#Reassign values with square brackets as well\n",
    "artists[0] = \"Maroon5\"\n",
    "print(artists)\n",
    "\n",
    "#Cannot do artists[4]  = \"\"\n",
    "\n"
   ]
  },
  {
   "cell_type": "code",
   "execution_count": 81,
   "metadata": {
    "colab": {
     "base_uri": "https://localhost:8080/",
     "height": 72
    },
    "colab_type": "code",
    "id": "YwkCQnKtW904",
    "outputId": "3b5cc3cc-6762-4a54-96b2-712db6aefe79"
   },
   "outputs": [
    {
     "name": "stdout",
     "output_type": "stream",
     "text": [
      "['Maroon5', 'Ariana', 'Billy', 'Kanye', 'Khalid']\n",
      "['Diplo', 'Maroon5', 'Ariana', 'Billy', 'Kanye', 'Khalid']\n",
      "['Diplo', 'Maroon5', 'Ariana', 'Billy', 'Khalid']\n"
     ]
    }
   ],
   "source": [
    "# add value to end of a list\n",
    "artists.append(\"Khalid\")\n",
    "print(artists)\n",
    "\n",
    "# add vaue to the start of a list\n",
    "artists.insert(0, \"Diplo\")\n",
    "print(artists)\n",
    "\n",
    "# Return the length of the list\n",
    "len(artists)\n",
    "\n",
    "del artists[4]\n",
    "\n",
    "print(artists)\n",
    "\n"
   ]
  },
  {
   "cell_type": "code",
   "execution_count": 84,
   "metadata": {
    "colab": {
     "base_uri": "https://localhost:8080/",
     "height": 54
    },
    "colab_type": "code",
    "id": "jT9vDQNU2ojJ",
    "outputId": "aa6bd303-448b-4701-eb13-f83fa090b24c"
   },
   "outputs": [
    {
     "name": "stdout",
     "output_type": "stream",
     "text": [
      "Billy has been removed\n",
      "['Diplo', 'Maroon5', 'Ariana']\n"
     ]
    }
   ],
   "source": [
    "last_artist = artists.pop()\n",
    "print(f\"{last_artist} has been removed\")\n",
    "print(artists)\n",
    "\n"
   ]
  },
  {
   "cell_type": "code",
   "execution_count": 85,
   "metadata": {
    "colab": {
     "base_uri": "https://localhost:8080/",
     "height": 54
    },
    "colab_type": "code",
    "id": "EL_d9MWuaK5G",
    "outputId": "a812626b-86bd-4cd9-ab6d-f052d19fba24"
   },
   "outputs": [
    {
     "name": "stdout",
     "output_type": "stream",
     "text": [
      "['Drake', 3.45, True, 'Motion']\n",
      "Motion\n"
     ]
    }
   ],
   "source": [
    "# lists can contain any type of data\n",
    "mix_list = ['Drake', 3.45, True, \"Motion\"]\n",
    "print(mix_list)\n",
    "print(mix_list[3])\n",
    "\n"
   ]
  },
  {
   "cell_type": "code",
   "execution_count": 102,
   "metadata": {
    "colab": {
     "base_uri": "https://localhost:8080/",
     "height": 35
    },
    "colab_type": "code",
    "id": "8nf_gmqcaK5M",
    "outputId": "40757117-a6c5-457f-fbb5-5b61adcae35f"
   },
   "outputs": [
    {
     "name": "stdout",
     "output_type": "stream",
     "text": [
      "Drake - Motion\n"
     ]
    }
   ],
   "source": [
    "print(f\"{mix_list[0]} - {mix_list[3]}\")\n",
    "\n"
   ]
  },
  {
   "cell_type": "markdown",
   "metadata": {
    "colab_type": "text",
    "id": "wXc2JMEfaK5l"
   },
   "source": [
    "<h1>Dictionaries</h1>\n",
    "<ul>\n",
    "  <li>\n",
    "   Collection of key-value pairs\n",
    "  <li>\n",
    "   No positions as with lists, values stored at specific key\n",
    "    <ul><li>keys can be of any data type</li></ul>\n",
    "  </li>\n",
    "  <li>Accessing values in a dictionary can still be done with square brackets ([ ])</li>\n",
    "  <li>Declared using braces ({ })</li>\n",
    "</ul>"
   ]
  },
  {
   "cell_type": "code",
   "execution_count": 125,
   "metadata": {
    "colab": {
     "base_uri": "https://localhost:8080/",
     "height": 35
    },
    "colab_type": "code",
    "id": "A-QawQmfaK5m",
    "outputId": "07f219ad-d36f-43b6-c420-fbdf8bd2c6d7"
   },
   "outputs": [
    {
     "name": "stdout",
     "output_type": "stream",
     "text": [
      "{'name': 'Motion', 'artist': 'Drake', 'duration': 3.25}\n"
     ]
    }
   ],
   "source": [
    "# collection of \"data\" which is unordered, changeable and indexed. They have keys and values.\n",
    "song_dict = { \"name\": \"Motion\", \"artist\": \"Drake\", \"duration\": 3.40}\n",
    "print(song)\n",
    "\n"
   ]
  },
  {
   "cell_type": "code",
   "execution_count": 126,
   "metadata": {
    "colab": {
     "base_uri": "https://localhost:8080/",
     "height": 35
    },
    "colab_type": "code",
    "id": "rzwYuDyzJ8G4",
    "outputId": "edc12735-e0fc-45e0-e2ff-dffdc395572a"
   },
   "outputs": [
    {
     "data": {
      "text/plain": [
       "'Motion'"
      ]
     },
     "execution_count": 126,
     "metadata": {
      "tags": []
     },
     "output_type": "execute_result"
    }
   ],
   "source": [
    "song_dict[\"name\"]\n",
    "\n"
   ]
  },
  {
   "cell_type": "code",
   "execution_count": 127,
   "metadata": {
    "colab": {
     "base_uri": "https://localhost:8080/",
     "height": 35
    },
    "colab_type": "code",
    "id": "wJx3xhdTaK53",
    "outputId": "99cd071b-e5fb-46a4-cc6d-9889fece360c"
   },
   "outputs": [
    {
     "name": "stdout",
     "output_type": "stream",
     "text": [
      "3.25\n"
     ]
    }
   ],
   "source": [
    "song_dict[\"duration\"] = 3.25\n",
    "print(song[\"duration\"])\n",
    "\n"
   ]
  },
  {
   "cell_type": "code",
   "execution_count": 130,
   "metadata": {
    "colab": {
     "base_uri": "https://localhost:8080/",
     "height": 35
    },
    "colab_type": "code",
    "id": "p-yZS2YhOxsj",
    "outputId": "3f4d5d3d-05e1-463d-cd87-0dd71fb5b873"
   },
   "outputs": [
    {
     "name": "stdout",
     "output_type": "stream",
     "text": [
      "{'name': 'Motion', 'artist': 'Drake', 'duration': 3.25, 'album': 'Scorpion'}\n"
     ]
    }
   ],
   "source": [
    "song_dict[\"album\"] = \"Scorpion\"\n",
    "print(song_dict)\n",
    "\n"
   ]
  },
  {
   "cell_type": "code",
   "execution_count": 132,
   "metadata": {
    "colab": {
     "base_uri": "https://localhost:8080/",
     "height": 35
    },
    "colab_type": "code",
    "id": "dkhRkqy5PPNE",
    "outputId": "6e71036d-4e03-4cd9-a498-bb954e26296e"
   },
   "outputs": [
    {
     "name": "stdout",
     "output_type": "stream",
     "text": [
      "{'name': 'Motion', 'artist': 'Drake', 'duration': 3.25}\n"
     ]
    }
   ],
   "source": [
    "del song_dict[\"album\"]\n",
    "print(song_dict)\n",
    "\n"
   ]
  },
  {
   "cell_type": "code",
   "execution_count": 133,
   "metadata": {
    "colab": {
     "base_uri": "https://localhost:8080/",
     "height": 72
    },
    "colab_type": "code",
    "id": "97-n_HSONDV2",
    "outputId": "57c9920c-9dda-43d9-f9d8-4b1ca8a9aea1"
   },
   "outputs": [
    {
     "name": "stdout",
     "output_type": "stream",
     "text": [
      "dict_items([('name', 'Ted'), ('age', 20), ('single', True), ('siblings', 1.3)])\n",
      "dict_keys(['name', 'age', 'single', 'siblings'])\n",
      "dict_values(['Ted', 20, True, 1.3])\n"
     ]
    }
   ],
   "source": [
    "#Dictionary methods return iterables\n",
    "print(person.items())\n",
    "print(person.keys())\n",
    "print(person.values())\n",
    "\n",
    "# Cannot do print(person.keys[0])\n",
    "\n"
   ]
  },
  {
   "cell_type": "code",
   "execution_count": 140,
   "metadata": {
    "colab": {
     "base_uri": "https://localhost:8080/",
     "height": 54
    },
    "colab_type": "code",
    "id": "LGYrHaqDaK58",
    "outputId": "42bfbe90-f0e2-476a-8d12-3c503e2da718"
   },
   "outputs": [
    {
     "name": "stdout",
     "output_type": "stream",
     "text": [
      "no\n",
      "Drakes song\n"
     ]
    }
   ],
   "source": [
    "## you can use dictionaries and lists in if statments. \n",
    "\n",
    "if \"Drake\" in song_dict:\n",
    "    print(\"Yes, Drake is one of the keys in the this dictionary\")\n",
    "else:\n",
    "    print(\"no\")\n",
    "    \n",
    " \n",
    "if \"Drake\" in mix_list:\n",
    "  print(\"Drakes song\")\n",
    "    \n",
    "    "
   ]
  },
  {
   "cell_type": "markdown",
   "metadata": {
    "colab_type": "text",
    "id": "WJWuZpCQaK6O"
   },
   "source": [
    "<h1>For Loops</h1>\n",
    "<ul>\n",
    "  <li>\n",
    "   Execute a block of code once for each item in collection (List/Dictionary)\n",
    "  <li>\n",
    "   Declare temporary variable to iterate through collection\n",
    "  </li>\n",
    "  <li>Can be used in combination with IF statements</li>\n",
    "</ul>"
   ]
  },
  {
   "cell_type": "code",
   "execution_count": 142,
   "metadata": {
    "colab": {
     "base_uri": "https://localhost:8080/",
     "height": 72
    },
    "colab_type": "code",
    "id": "ecaoxp7kaK6O",
    "outputId": "5142d207-5b80-45ad-f7dd-33a3ed2b7041"
   },
   "outputs": [
    {
     "name": "stdout",
     "output_type": "stream",
     "text": [
      "Diplo\n",
      "Maroon5\n",
      "Ariana\n"
     ]
    }
   ],
   "source": [
    "for artist in artists:\n",
    "  print(artist)\n",
    "\n"
   ]
  },
  {
   "cell_type": "code",
   "execution_count": 143,
   "metadata": {
    "colab": {
     "base_uri": "https://localhost:8080/",
     "height": 72
    },
    "colab_type": "code",
    "id": "QFOWeKn3mxnK",
    "outputId": "cd1a2515-5b3c-4f81-8b0a-420dec069ccf"
   },
   "outputs": [
    {
     "name": "stdout",
     "output_type": "stream",
     "text": [
      "name: Motion\n",
      "artist: Drake\n",
      "duration: 3.25\n"
     ]
    }
   ],
   "source": [
    "#Check if after 2007 and even number\n",
    "\n",
    "for key, value in song_dict.items():\n",
    "  print(f\"{key}: {value}\")\n",
    "      \n",
    "    "
   ]
  },
  {
   "cell_type": "code",
   "execution_count": 148,
   "metadata": {
    "colab": {
     "base_uri": "https://localhost:8080/",
     "height": 128
    },
    "colab_type": "code",
    "id": "-ct-QUFiSuFt",
    "outputId": "eaf7cee7-6d9e-4c64-a3f0-73e44e8836ef"
   },
   "outputs": [
    {
     "name": "stdout",
     "output_type": "stream",
     "text": [
      "0\n",
      "1\n",
      "2\n",
      "3\n",
      "4\n",
      "5\n"
     ]
    }
   ],
   "source": [
    "for i in range(len(artist)):\n",
    "  print(i)\n",
    "  \n",
    "  "
   ]
  },
  {
   "cell_type": "markdown",
   "metadata": {
    "colab_type": "text",
    "id": "2-X8mOzmaK6D"
   },
   "source": [
    "<h1>Functions</h1>\n",
    "<ul>\n",
    "  <li>\n",
    "   Named blocks of code that do one specific job\n",
    "  <li>\n",
    "   Prevents rewriting of code that accomplishes the same task\n",
    "  </li>\n",
    "  <li>Keyword <i>def</i> used to declare functions</li>\n",
    "  <li>Variables may be passed to functions</li>\n",
    "</ul>"
   ]
  },
  {
   "cell_type": "code",
   "execution_count": 141,
   "metadata": {
    "colab": {
     "base_uri": "https://localhost:8080/",
     "height": 35
    },
    "colab_type": "code",
    "id": "gw-l8THRaK6F",
    "outputId": "e6f9434c-0640-4060-9ef7-a2b12773103e"
   },
   "outputs": [
    {
     "name": "stdout",
     "output_type": "stream",
     "text": [
      "Hi!\n"
     ]
    }
   ],
   "source": [
    "# A function is a block of organized, reusable code that is used to perform a single, related action.\n",
    "def greeting():\n",
    "  print(\"Hi!\")\n",
    "  \n",
    "greeting()\n",
    "\n"
   ]
  },
  {
   "cell_type": "code",
   "execution_count": 145,
   "metadata": {
    "colab": {
     "base_uri": "https://localhost:8080/",
     "height": 35
    },
    "colab_type": "code",
    "id": "VyAdfwXYkjy-",
    "outputId": "78a46710-4824-4906-d1cb-9aabc0636602"
   },
   "outputs": [
    {
     "name": "stdout",
     "output_type": "stream",
     "text": [
      "motion by drake from Scorpion!\n"
     ]
    }
   ],
   "source": [
    "def description(name, artist, album):\n",
    "    print(f\"{name} by {artist} from {album}!\")\n",
    "    \n",
    "description(\"motion\", \"drake\", \"Scorpion\")\n",
    "\n"
   ]
  },
  {
   "cell_type": "markdown",
   "metadata": {
    "colab_type": "text",
    "id": "NhfExVHy3PfA"
   },
   "source": [
    "<h1>Classes</h1>\n",
    "<ul>\n",
    "  <li>\n",
    "  Object-orientated programming approach popular and efficient\n",
    "  </li>\n",
    "  <li>\n",
    "   Define classes of real-world things or situations\n",
    "    <ul>\n",
    "      <li>Attributes of various data types</li>\n",
    "      <li>Functions inside of a class are the same except called methods</li>\n",
    "      <li>Methods may be accessed using the dot operator</li>\n",
    "    </ul>\n",
    "  </li>\n",
    "  <li>Instanciate objects of your classes</li>\n",
    "  <li>__init()__ method used to prefill attributes</li>\n",
    "  <li>Capitalize class names</li>\n",
    "</ul>"
   ]
  },
  {
   "cell_type": "code",
   "execution_count": 0,
   "metadata": {
    "colab": {},
    "colab_type": "code",
    "id": "TArB_90h4wzt"
   },
   "outputs": [],
   "source": [
    "class Song():\n",
    "  def __init__(self, name, artist, duration):\n",
    "    self.name = name\n",
    "    self.artist = artist\n",
    "    self.duration = duration\n",
    "    \n",
    "  def description(self):\n",
    "    return f\"{self.name} by {self.artist}!\"\n",
    "    \n",
    "    \n",
    "    "
   ]
  },
  {
   "cell_type": "code",
   "execution_count": 147,
   "metadata": {
    "colab": {
     "base_uri": "https://localhost:8080/",
     "height": 35
    },
    "colab_type": "code",
    "id": "AF9224My4xFo",
    "outputId": "a761ca25-9a28-419b-e203-a3dd3c8d7ae3"
   },
   "outputs": [
    {
     "name": "stdout",
     "output_type": "stream",
     "text": [
      "Motion by Drake!\n"
     ]
    }
   ],
   "source": [
    "song1 = Song(\"Motion\", \"Drake\", 4.40)\n",
    "print(song1.description())\n",
    "\n"
   ]
  },
  {
   "cell_type": "markdown",
   "metadata": {
    "colab_type": "text",
    "id": "DNRcacpoQTxp"
   },
   "source": [
    "<h1>User Input</h1>\n",
    "<ul>\n",
    "  <li>\n",
    "     Pauses your program and waits for the user to enter some text\n",
    "  <li>\n",
    "    Variable used with Input() will be a <b>string</b> even if user inputs an integer\n",
    "  </li>\n",
    "  <ul><li>Will need to make use of type casting</li></ul>\n",
    "</ul>"
   ]
  },
  {
   "cell_type": "code",
   "execution_count": 0,
   "metadata": {
    "colab": {
     "base_uri": "https://localhost:8080/",
     "height": 72
    },
    "colab_type": "code",
    "id": "S7GgUjhIFdMg",
    "outputId": "680735bc-519a-494a-c7b1-f195bae67de5"
   },
   "outputs": [
    {
     "name": "stdout",
     "output_type": "stream",
     "text": [
      "Enter your age.\n",
      "22\n",
      "Entered age is 22\n"
     ]
    }
   ],
   "source": [
    "x = input(\"Enter your age.\\n\")\n",
    "print(f\"Entered age is {x}\")\n",
    "\n"
   ]
  },
  {
   "cell_type": "markdown",
   "metadata": {
    "colab_type": "text",
    "id": "G8uHx0AMFgK9"
   },
   "source": [
    "\n",
    "<h1>Putting It All Together</h1>\n"
   ]
  },
  {
   "cell_type": "code",
   "execution_count": 151,
   "metadata": {
    "colab": {
     "base_uri": "https://localhost:8080/",
     "height": 1089
    },
    "colab_type": "code",
    "id": "v-LCWBj-B8i0",
    "outputId": "9edbade8-9101-4c87-9217-db12d3bba7d1"
   },
   "outputs": [
    {
     "name": "stdout",
     "output_type": "stream",
     "text": [
      "Requirement already satisfied: Texttable in /usr/local/lib/python3.6/dist-packages (1.6.1)\n",
      "\n",
      "Please choose from one of the following options:\n",
      "1. Add A Song\n",
      "2. List Playlist\n",
      "3. Remove a Song\n",
      "4. Quit\n",
      "1\n",
      "How many songs would you like to add?\n",
      "2\n",
      "Please enter the name, artist, duration, and album of the song\n",
      "motion drake 3.1\n",
      "Please enter the name, artist, duration, and album of the song\n",
      "motionn drake 3.1\n",
      "Song(s) Added!\n",
      "\n",
      "Please choose from one of the following options:\n",
      "1. Add A Song\n",
      "2. List Playlist\n",
      "3. Remove a Song\n",
      "4. Quit\n",
      "2\n",
      "+---------+--------+----------+-------------------+\n",
      "| Name    | Artist | Duration | Description       |\n",
      "+---------+--------+----------+-------------------+\n",
      "| Motion  | Drake  | 3.100    | motion by drake!  |\n",
      "+---------+--------+----------+-------------------+\n",
      "| Motionn | Drake  | 3.100    | motionn by drake! |\n",
      "+---------+--------+----------+-------------------+\n",
      "\n",
      "Please choose from one of the following options:\n",
      "1. Add A Song\n",
      "2. List Playlist\n",
      "3. Remove a Song\n",
      "4. Quit\n",
      "3\n",
      "Please enter the name of the song you'd like to remove\n",
      "motion\n",
      "Motion removed from the playlist.\n",
      "\n",
      "Please choose from one of the following options:\n",
      "1. Add A Song\n",
      "2. List Playlist\n",
      "3. Remove a Song\n",
      "4. Quit\n",
      "2\n",
      "+---------+--------+----------+-------------------+\n",
      "| Name    | Artist | Duration | Description       |\n",
      "+---------+--------+----------+-------------------+\n",
      "| Motionn | Drake  | 3.100    | motionn by drake! |\n",
      "+---------+--------+----------+-------------------+\n",
      "\n",
      "Please choose from one of the following options:\n",
      "1. Add A Song\n",
      "2. List Playlist\n",
      "3. Remove a Song\n",
      "4. Quit\n",
      "4\n"
     ]
    }
   ],
   "source": [
    "!pip install Texttable\n",
    "#dir(): Attempt to return a list of valid attributes for that object\n",
    "#dir(table)\n",
    "import texttable as tt\n",
    "\n",
    "songs_dict = {}\n",
    "\n",
    "message = \"\"\n",
    "prompt = \"\\nPlease choose from one of the following options:\"\n",
    "prompt += \"\\n1. Add A Song\"\n",
    "prompt += \"\\n2. List Playlist\"\n",
    "prompt += \"\\n3. Remove a Song\"\n",
    "prompt += \"\\n4. Quit\\n\"\n",
    "\n",
    "\n",
    "while message != \"4\":\n",
    "  message = input(prompt)\n",
    "  \n",
    "  if message == \"1\":\n",
    "    num_songs = input(\"How many songs would you like to add?\\n\")\n",
    "    \n",
    "    for i in range(int(num_songs)):\n",
    "      prompt2 = \"Please enter the name, artist, duration, and album of the song\\n\"\n",
    "      name, artist, duration = input(prompt2).split()  \n",
    "      song = Song(name, artist, duration)\n",
    "      songs_dict[song.name.lower()] = song\n",
    "    \n",
    "    print(\"Song(s) Added!\")\n",
    "      \n",
    "  elif message == \"2\":\n",
    "    \n",
    "    if len(songs_dict) == 0:\n",
    "      print(\"No songs in the playlist!\")\n",
    "    else:\n",
    "      menu = tt.Texttable()\n",
    "      menu.add_row([\"Name\", \"Artist\", \"Duration\", \"Description\"])\n",
    "      for key, song in songs_dict.items():\n",
    "        menu.add_row([song.name.title(), song.artist.title(), song.duration, song.description()])\n",
    "      print(menu.draw())\n",
    "    \n",
    "  elif message == \"3\":\n",
    "    prompt3 = \"Please enter the name of the song you'd like to remove\\n\"\n",
    "    removed_name = input(prompt3)\n",
    "    \n",
    "    if removed_name in songs_dict:\n",
    "      del songs_dict[removed_name]\n",
    "      print(f\"{removed_name.title()} removed from the playlist.\")\n",
    "    else:\n",
    "      print(\"That song is not in the playlist. Please try again.\")\n",
    "      \n",
    "  elif message == \"4\":\n",
    "    break\n",
    "  else:\n",
    "    print(\"That is not one of the options.\")\n",
    "    \n",
    "    \n",
    "    "
   ]
  },
  {
   "cell_type": "code",
   "execution_count": 0,
   "metadata": {
    "colab": {},
    "colab_type": "code",
    "id": "9GHJNwnqTCYv"
   },
   "outputs": [],
   "source": []
  }
 ],
 "metadata": {
  "colab": {
   "collapsed_sections": [],
   "name": "Class 1 - Master.ipynb",
   "provenance": [],
   "version": "0.3.2"
  },
  "kernelspec": {
   "display_name": "Python 3",
   "language": "python",
   "name": "python3"
  },
  "language_info": {
   "codemirror_mode": {
    "name": "ipython",
    "version": 3
   },
   "file_extension": ".py",
   "mimetype": "text/x-python",
   "name": "python",
   "nbconvert_exporter": "python",
   "pygments_lexer": "ipython3",
   "version": "3.7.0"
  }
 },
 "nbformat": 4,
 "nbformat_minor": 1
}
