{
 "cells": [
  {
   "cell_type": "markdown",
   "metadata": {
    "colab_type": "text",
    "id": "8sNLUmXqhc69"
   },
   "source": [
    "<h1>Python 1 - Overview</h1>\n",
    "<p>\n",
    "  Bootcamp will cover Python fundamentals while making a music playlist program\n",
    "</p>\n",
    "<ul>\n",
    "<li>Evaluating primitive types in python: type()</li>\n",
    "<li>Declaring variables and variable declaration conventions: =</li>\n",
    "<li>Math Operators and string concatenation: (+ , - , * , /,%)</li>\n",
    "<li>IF and WHILE statements with conditional operators: (==, >, >=, break)</li>\n",
    "<li>User input: input()</li>\n",
    "<li>Data collections - Lists: ([ ], append(), insert(), del, pop(), len(), sort())</li>\n",
    "<li>Data collections - Dictionaries: ({ },[ ], insert(), del, clear(), keys(), values())</li>\n",
    "<li>Declaring custom functions: def, return</li>\n",
    "<li>Classes and object oriented programming: class(), __init__(), methods</li>\n",
    "<li>Automating with FOR loops: for, in</li>\n",
    "<li>Use Case: Song Playlist Program</li>\n",
    "</ul>\n",
    "<p>Our program will:\n",
    "<ol>\n",
    "  <li>Display a menu</li>\n",
    "  <li>Add new songs from user input </li>\n",
    "  <li>Display the playlist</li>\n",
    "  <li>Remove songs from the playlist</li>\n",
    "</ol>\n",
    "  </p>"
   ]
  },
  {
   "cell_type": "markdown",
   "metadata": {
    "colab_type": "text",
    "id": "jhRJHIQuaK1z"
   },
   "source": [
    "<h1>Data Types</h1>\n",
    "<ul>\n",
    "  <li>\n",
    "   Four primitive types in Python\n",
    "    <ol>\n",
    "      <li>\n",
    "        Integers\n",
    "      </li>\n",
    "      <li>\n",
    "        Booleans\n",
    "      </li>\n",
    "      <li>\n",
    "        Floats\n",
    "      </li>\n",
    "      <li>\n",
    "        Strings\n",
    "      </li>\n",
    "    </ol>\n",
    " <li>\n",
    "   Types may be changed using int(), str(), float(), and bool() methods    \n",
    " </li>\n",
    "</ul>"
   ]
  },
  {
   "cell_type": "code",
   "execution_count": null,
   "metadata": {
    "colab": {
     "base_uri": "https://localhost:8080/",
     "height": 91
    },
    "colab_type": "code",
    "id": "6feLqUTLaK13",
    "outputId": "4c33814a-6c09-4cea-922e-107c4373b180"
   },
   "outputs": [],
   "source": []
  },
  {
   "cell_type": "code",
   "execution_count": null,
   "metadata": {
    "colab": {
     "base_uri": "https://localhost:8080/",
     "height": 35
    },
    "colab_type": "code",
    "id": "Jp-u-3UuaK2I",
    "outputId": "8c4333e2-77af-4633-e4b6-d6d86bf5c871"
   },
   "outputs": [],
   "source": []
  },
  {
   "cell_type": "code",
   "execution_count": null,
   "metadata": {
    "colab": {
     "base_uri": "https://localhost:8080/",
     "height": 35
    },
    "colab_type": "code",
    "id": "QGvw_Ps9aK2T",
    "outputId": "e853a29a-0176-4f60-d496-4917504ebdf0"
   },
   "outputs": [],
   "source": []
  },
  {
   "cell_type": "code",
   "execution_count": null,
   "metadata": {
    "colab": {
     "base_uri": "https://localhost:8080/",
     "height": 35
    },
    "colab_type": "code",
    "id": "jyf7Dd--aK2d",
    "outputId": "a62bbb58-99c9-4042-e718-c72288107072"
   },
   "outputs": [],
   "source": []
  },
  {
   "cell_type": "markdown",
   "metadata": {
    "colab_type": "text",
    "id": "Ct1Ouj3TaK2r"
   },
   "source": [
    "<h1>Variables</h1>\n",
    "<ul>\n",
    "  <li>\n",
    "    May consist of letters, numbers, and underscores, but not spaces.\n",
    "    <ul>\n",
    "      <li>\n",
    "        <b>Cannot start with a number.</b>\n",
    "      </li>\n",
    "    </ul>\n",
    "  </li>\n",
    "  <li>\n",
    "    Avoid using Python keywords (for, if, and, or, etc.)\n",
    "</li>\n",
    "  <li>\n",
    "    Be careful when using 1s and lower case ls, as well as 0s and Os.\n",
    "</li>\n",
    "  <li>\n",
    "    Keep it short.\n",
    "</li>\n",
    "</ul>"
   ]
  },
  {
   "cell_type": "code",
   "execution_count": null,
   "metadata": {
    "colab": {},
    "colab_type": "code",
    "id": "kUVrpEDraK2v"
   },
   "outputs": [],
   "source": []
  },
  {
   "cell_type": "code",
   "execution_count": null,
   "metadata": {
    "colab": {
     "base_uri": "https://localhost:8080/",
     "height": 35
    },
    "colab_type": "code",
    "id": "wDL9Snj3aK22",
    "outputId": "4f5fadfe-a338-4517-cd27-85b75bcb81a9"
   },
   "outputs": [],
   "source": []
  },
  {
   "cell_type": "code",
   "execution_count": null,
   "metadata": {
    "colab": {},
    "colab_type": "code",
    "id": "a4aim_v7aK3D"
   },
   "outputs": [],
   "source": []
  },
  {
   "cell_type": "markdown",
   "metadata": {
    "colab_type": "text",
    "id": "quOCg51naK3Q"
   },
   "source": [
    "<h1>Math Operators</h1>\n",
    "<ul>\n",
    "  <li>\n",
    "    Addition, Subtration, Multiplication and Division may be done using basic math operators (+ , - , * , /,%).\n",
    "  </li>\n",
    "  <li>\n",
    "    Many built-in string methods (title, upper, lower, index, split).\n",
    "  </li>\n",
    "  <li>\n",
    "    Python will also try to interpret your code with other data types\n",
    "  </li>\n",
    "  <ul><li>(+) may be used with strings!</li></ul>\n",
    "</ul>"
   ]
  },
  {
   "cell_type": "code",
   "execution_count": null,
   "metadata": {
    "colab": {
     "base_uri": "https://localhost:8080/",
     "height": 35
    },
    "colab_type": "code",
    "id": "efJPyToyaK3U",
    "outputId": "3d79ac55-db32-4416-d207-9ea50278d22a"
   },
   "outputs": [],
   "source": []
  },
  {
   "cell_type": "code",
   "execution_count": null,
   "metadata": {
    "colab": {},
    "colab_type": "code",
    "id": "SEH_Z8RMaK3o"
   },
   "outputs": [],
   "source": []
  },
  {
   "cell_type": "code",
   "execution_count": null,
   "metadata": {
    "colab": {
     "base_uri": "https://localhost:8080/",
     "height": 128
    },
    "colab_type": "code",
    "id": "jCnJQgJfaK3u",
    "outputId": "e7043840-dfc4-4a90-e93c-a6affac428c0"
   },
   "outputs": [],
   "source": []
  },
  {
   "cell_type": "code",
   "execution_count": null,
   "metadata": {
    "colab": {
     "base_uri": "https://localhost:8080/",
     "height": 35
    },
    "colab_type": "code",
    "id": "E-TeGGXnGD7R",
    "outputId": "573d8e23-f7d4-42a7-abee-64b7e8449cac"
   },
   "outputs": [],
   "source": []
  },
  {
   "cell_type": "code",
   "execution_count": null,
   "metadata": {
    "colab": {},
    "colab_type": "code",
    "id": "QauC6EX6aK31"
   },
   "outputs": [],
   "source": []
  },
  {
   "cell_type": "markdown",
   "metadata": {
    "colab_type": "text",
    "id": "rFpvvS7saK38"
   },
   "source": [
    "<h1>IF and WHILE Statements</h1>\n",
    "<ul>\n",
    "  <li>\n",
    "    Will only run indented code if condition is true\n",
    "  <li>\n",
    "    Make use of <b>conditional operators</b> to create tests\n",
    "  </li>\n",
    "  <ul><li>(==) will return true if both variables are equal</li>\n",
    "  <li>(>) will return true if left variable is larger</li>\n",
    "  <li>(>=) will return if left variable is larger or equal to right variable</li></ul>\n",
    "  <li>IF will only run indented code once, WHILE will run indented code until condition is no longer true</li>\n",
    "</ul>"
   ]
  },
  {
   "cell_type": "code",
   "execution_count": null,
   "metadata": {
    "colab": {
     "base_uri": "https://localhost:8080/",
     "height": 35
    },
    "colab_type": "code",
    "id": "HMuXwq6NaK3_",
    "outputId": "0445dd07-47af-4e8b-b1bb-c39b52142091"
   },
   "outputs": [],
   "source": []
  },
  {
   "cell_type": "code",
   "execution_count": null,
   "metadata": {
    "colab": {
     "base_uri": "https://localhost:8080/",
     "height": 35
    },
    "colab_type": "code",
    "id": "kuMFndnQaK4M",
    "outputId": "9b8e7f5b-1a60-4892-d2af-9cdf09026f70"
   },
   "outputs": [],
   "source": []
  },
  {
   "cell_type": "code",
   "execution_count": null,
   "metadata": {
    "colab": {},
    "colab_type": "code",
    "id": "80LZUxeP4VmU"
   },
   "outputs": [],
   "source": []
  },
  {
   "cell_type": "code",
   "execution_count": null,
   "metadata": {
    "colab": {
     "base_uri": "https://localhost:8080/",
     "height": 35
    },
    "colab_type": "code",
    "id": "QX4EgJbvaK4p",
    "outputId": "ba11bf06-7bf2-40d5-89a0-a7f371987765"
   },
   "outputs": [],
   "source": []
  },
  {
   "cell_type": "code",
   "execution_count": null,
   "metadata": {
    "colab": {
     "base_uri": "https://localhost:8080/",
     "height": 350
    },
    "colab_type": "code",
    "id": "QZQ-MCx_S3yM",
    "outputId": "97d4d94b-d1f6-4069-9311-7f81fc7b71d0"
   },
   "outputs": [],
   "source": []
  },
  {
   "cell_type": "markdown",
   "metadata": {
    "colab_type": "text",
    "id": "ltbJVmjiaK46"
   },
   "source": [
    "<h1>Lists</h1>\n",
    "<ul>\n",
    "  <li>\n",
    "   Collection of items in a particular order\n",
    "  <li>\n",
    "   Indexing (order) starts from <b>0</b>\n",
    "  </li>\n",
    "  <li>Accessing items in a list can be done with square brackets ([ ])</li>\n",
    "  <li>Items can be easily added to lists using append() and insert() methods</li>\n",
    "</ul>"
   ]
  },
  {
   "cell_type": "code",
   "execution_count": null,
   "metadata": {
    "colab": {
     "base_uri": "https://localhost:8080/",
     "height": 146
    },
    "colab_type": "code",
    "id": "nZxyZjjraK47",
    "outputId": "509c01af-20f1-4565-8063-a5182652a00f"
   },
   "outputs": [],
   "source": []
  },
  {
   "cell_type": "code",
   "execution_count": null,
   "metadata": {
    "colab": {
     "base_uri": "https://localhost:8080/",
     "height": 72
    },
    "colab_type": "code",
    "id": "YwkCQnKtW904",
    "outputId": "3b5cc3cc-6762-4a54-96b2-712db6aefe79"
   },
   "outputs": [],
   "source": []
  },
  {
   "cell_type": "code",
   "execution_count": null,
   "metadata": {
    "colab": {
     "base_uri": "https://localhost:8080/",
     "height": 54
    },
    "colab_type": "code",
    "id": "jT9vDQNU2ojJ",
    "outputId": "aa6bd303-448b-4701-eb13-f83fa090b24c"
   },
   "outputs": [],
   "source": []
  },
  {
   "cell_type": "code",
   "execution_count": null,
   "metadata": {
    "colab": {
     "base_uri": "https://localhost:8080/",
     "height": 54
    },
    "colab_type": "code",
    "id": "EL_d9MWuaK5G",
    "outputId": "a812626b-86bd-4cd9-ab6d-f052d19fba24"
   },
   "outputs": [],
   "source": []
  },
  {
   "cell_type": "code",
   "execution_count": null,
   "metadata": {
    "colab": {
     "base_uri": "https://localhost:8080/",
     "height": 35
    },
    "colab_type": "code",
    "id": "8nf_gmqcaK5M",
    "outputId": "40757117-a6c5-457f-fbb5-5b61adcae35f"
   },
   "outputs": [],
   "source": []
  },
  {
   "cell_type": "markdown",
   "metadata": {
    "colab_type": "text",
    "id": "wXc2JMEfaK5l"
   },
   "source": [
    "<h1>Dictionaries</h1>\n",
    "<ul>\n",
    "  <li>\n",
    "   Collection of key-value pairs\n",
    "  <li>\n",
    "   No positions as with lists, values stored at specific key\n",
    "    <ul><li>keys can be of any data type</li></ul>\n",
    "  </li>\n",
    "  <li>Accessing values in a dictionary can still be done with square brackets ([ ])</li>\n",
    "  <li>Declared using braces ({ })</li>\n",
    "</ul>"
   ]
  },
  {
   "cell_type": "code",
   "execution_count": null,
   "metadata": {
    "colab": {
     "base_uri": "https://localhost:8080/",
     "height": 35
    },
    "colab_type": "code",
    "id": "A-QawQmfaK5m",
    "outputId": "07f219ad-d36f-43b6-c420-fbdf8bd2c6d7"
   },
   "outputs": [],
   "source": []
  },
  {
   "cell_type": "code",
   "execution_count": null,
   "metadata": {
    "colab": {
     "base_uri": "https://localhost:8080/",
     "height": 35
    },
    "colab_type": "code",
    "id": "rzwYuDyzJ8G4",
    "outputId": "edc12735-e0fc-45e0-e2ff-dffdc395572a"
   },
   "outputs": [],
   "source": []
  },
  {
   "cell_type": "code",
   "execution_count": null,
   "metadata": {
    "colab": {
     "base_uri": "https://localhost:8080/",
     "height": 35
    },
    "colab_type": "code",
    "id": "wJx3xhdTaK53",
    "outputId": "99cd071b-e5fb-46a4-cc6d-9889fece360c"
   },
   "outputs": [],
   "source": []
  },
  {
   "cell_type": "code",
   "execution_count": null,
   "metadata": {
    "colab": {
     "base_uri": "https://localhost:8080/",
     "height": 35
    },
    "colab_type": "code",
    "id": "p-yZS2YhOxsj",
    "outputId": "3f4d5d3d-05e1-463d-cd87-0dd71fb5b873"
   },
   "outputs": [],
   "source": []
  },
  {
   "cell_type": "code",
   "execution_count": null,
   "metadata": {
    "colab": {
     "base_uri": "https://localhost:8080/",
     "height": 35
    },
    "colab_type": "code",
    "id": "dkhRkqy5PPNE",
    "outputId": "6e71036d-4e03-4cd9-a498-bb954e26296e"
   },
   "outputs": [],
   "source": []
  },
  {
   "cell_type": "code",
   "execution_count": null,
   "metadata": {
    "colab": {
     "base_uri": "https://localhost:8080/",
     "height": 72
    },
    "colab_type": "code",
    "id": "97-n_HSONDV2",
    "outputId": "57c9920c-9dda-43d9-f9d8-4b1ca8a9aea1"
   },
   "outputs": [],
   "source": []
  },
  {
   "cell_type": "code",
   "execution_count": null,
   "metadata": {
    "colab": {
     "base_uri": "https://localhost:8080/",
     "height": 54
    },
    "colab_type": "code",
    "id": "LGYrHaqDaK58",
    "outputId": "42bfbe90-f0e2-476a-8d12-3c503e2da718"
   },
   "outputs": [],
   "source": []
  },
  {
   "cell_type": "markdown",
   "metadata": {
    "colab_type": "text",
    "id": "WJWuZpCQaK6O"
   },
   "source": [
    "<h1>For Loops</h1>\n",
    "<ul>\n",
    "  <li>\n",
    "   Execute a block of code once for each item in collection (List/Dictionary)\n",
    "  <li>\n",
    "   Declare temporary variable to iterate through collection\n",
    "  </li>\n",
    "  <li>Can be used in combination with IF statements</li>\n",
    "</ul>"
   ]
  },
  {
   "cell_type": "code",
   "execution_count": null,
   "metadata": {
    "colab": {
     "base_uri": "https://localhost:8080/",
     "height": 72
    },
    "colab_type": "code",
    "id": "ecaoxp7kaK6O",
    "outputId": "5142d207-5b80-45ad-f7dd-33a3ed2b7041"
   },
   "outputs": [],
   "source": []
  },
  {
   "cell_type": "code",
   "execution_count": null,
   "metadata": {
    "colab": {
     "base_uri": "https://localhost:8080/",
     "height": 72
    },
    "colab_type": "code",
    "id": "QFOWeKn3mxnK",
    "outputId": "cd1a2515-5b3c-4f81-8b0a-420dec069ccf"
   },
   "outputs": [],
   "source": []
  },
  {
   "cell_type": "code",
   "execution_count": null,
   "metadata": {
    "colab": {
     "base_uri": "https://localhost:8080/",
     "height": 128
    },
    "colab_type": "code",
    "id": "-ct-QUFiSuFt",
    "outputId": "eaf7cee7-6d9e-4c64-a3f0-73e44e8836ef"
   },
   "outputs": [],
   "source": []
  },
  {
   "cell_type": "markdown",
   "metadata": {
    "colab_type": "text",
    "id": "2-X8mOzmaK6D"
   },
   "source": [
    "<h1>Functions</h1>\n",
    "<ul>\n",
    "  <li>\n",
    "   Named blocks of code that do one specific job\n",
    "  <li>\n",
    "   Prevents rewriting of code that accomplishes the same task\n",
    "  </li>\n",
    "  <li>Keyword <i>def</i> used to declare functions</li>\n",
    "  <li>Variables may be passed to functions</li>\n",
    "</ul>"
   ]
  },
  {
   "cell_type": "code",
   "execution_count": null,
   "metadata": {
    "colab": {
     "base_uri": "https://localhost:8080/",
     "height": 35
    },
    "colab_type": "code",
    "id": "gw-l8THRaK6F",
    "outputId": "e6f9434c-0640-4060-9ef7-a2b12773103e"
   },
   "outputs": [],
   "source": []
  },
  {
   "cell_type": "code",
   "execution_count": null,
   "metadata": {
    "colab": {
     "base_uri": "https://localhost:8080/",
     "height": 35
    },
    "colab_type": "code",
    "id": "VyAdfwXYkjy-",
    "outputId": "78a46710-4824-4906-d1cb-9aabc0636602"
   },
   "outputs": [],
   "source": []
  },
  {
   "cell_type": "markdown",
   "metadata": {
    "colab_type": "text",
    "id": "NhfExVHy3PfA"
   },
   "source": [
    "<h1>Classes</h1>\n",
    "<ul>\n",
    "  <li>\n",
    "  Object-orientated programming approach popular and efficient\n",
    "  </li>\n",
    "  <li>\n",
    "   Define classes of real-world things or situations\n",
    "    <ul>\n",
    "      <li>Attributes of various data types</li>\n",
    "      <li>Functions inside of a class are the same except called methods</li>\n",
    "      <li>Methods may be accessed using the dot operator</li>\n",
    "    </ul>\n",
    "  </li>\n",
    "  <li>Instanciate objects of your classes</li>\n",
    "  <li>__init()__ method used to prefill attributes</li>\n",
    "  <li>Capitalize class names</li>\n",
    "</ul>"
   ]
  },
  {
   "cell_type": "code",
   "execution_count": null,
   "metadata": {
    "colab": {},
    "colab_type": "code",
    "id": "TArB_90h4wzt"
   },
   "outputs": [],
   "source": []
  },
  {
   "cell_type": "code",
   "execution_count": null,
   "metadata": {
    "colab": {
     "base_uri": "https://localhost:8080/",
     "height": 35
    },
    "colab_type": "code",
    "id": "AF9224My4xFo",
    "outputId": "a761ca25-9a28-419b-e203-a3dd3c8d7ae3"
   },
   "outputs": [],
   "source": []
  },
  {
   "cell_type": "markdown",
   "metadata": {
    "colab_type": "text",
    "id": "DNRcacpoQTxp"
   },
   "source": [
    "<h1>User Input</h1>\n",
    "<ul>\n",
    "  <li>\n",
    "     Pauses your program and waits for the user to enter some text\n",
    "  <li>\n",
    "    Variable used with Input() will be a <b>string</b> even if user inputs an integer\n",
    "  </li>\n",
    "  <ul><li>Will need to make use of type casting</li></ul>\n",
    "</ul>"
   ]
  },
  {
   "cell_type": "code",
   "execution_count": null,
   "metadata": {
    "colab": {
     "base_uri": "https://localhost:8080/",
     "height": 72
    },
    "colab_type": "code",
    "id": "S7GgUjhIFdMg",
    "outputId": "680735bc-519a-494a-c7b1-f195bae67de5"
   },
   "outputs": [],
   "source": []
  },
  {
   "cell_type": "markdown",
   "metadata": {
    "colab_type": "text",
    "id": "G8uHx0AMFgK9"
   },
   "source": [
    "\n",
    "<h1>Putting It All Together</h1>\n"
   ]
  },
  {
   "cell_type": "code",
   "execution_count": null,
   "metadata": {
    "colab": {
     "base_uri": "https://localhost:8080/",
     "height": 1089
    },
    "colab_type": "code",
    "id": "v-LCWBj-B8i0",
    "outputId": "9edbade8-9101-4c87-9217-db12d3bba7d1"
   },
   "outputs": [],
   "source": []
  },
  {
   "cell_type": "code",
   "execution_count": null,
   "metadata": {
    "colab": {},
    "colab_type": "code",
    "id": "9GHJNwnqTCYv"
   },
   "outputs": [],
   "source": []
  },
  {
   "cell_type": "code",
   "execution_count": null,
   "metadata": {},
   "outputs": [],
   "source": []
  }
 ],
 "metadata": {
  "colab": {
   "collapsed_sections": [],
   "name": "Class 1 - Master.ipynb",
   "provenance": [],
   "version": "0.3.2"
  },
  "kernelspec": {
   "display_name": "Python 3",
   "language": "python",
   "name": "python3"
  },
  "language_info": {
   "codemirror_mode": {
    "name": "ipython",
    "version": 3
   },
   "file_extension": ".py",
   "mimetype": "text/x-python",
   "name": "python",
   "nbconvert_exporter": "python",
   "pygments_lexer": "ipython3",
   "version": "3.7.1"
  }
 },
 "nbformat": 4,
 "nbformat_minor": 1
}
